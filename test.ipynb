{
 "cells": [
  {
   "cell_type": "code",
   "execution_count": 1,
   "metadata": {},
   "outputs": [
    {
     "ename": "NameError",
     "evalue": "name '__file__' is not defined",
     "output_type": "error",
     "traceback": [
      "\u001b[1;31m---------------------------------------------------------------------------\u001b[0m",
      "\u001b[1;31mNameError\u001b[0m                                 Traceback (most recent call last)",
      "Cell \u001b[1;32mIn[1], line 4\u001b[0m\n\u001b[0;32m      1\u001b[0m \u001b[38;5;28;01mimport\u001b[39;00m \u001b[38;5;21;01mmanagerlib\u001b[39;00m \u001b[38;5;28;01mas\u001b[39;00m \u001b[38;5;21;01mml\u001b[39;00m\n\u001b[0;32m      2\u001b[0m \u001b[38;5;28;01mimport\u001b[39;00m \u001b[38;5;21;01mos\u001b[39;00m\n\u001b[0;32m      3\u001b[0m global_config_path \u001b[38;5;241m=\u001b[39m os\u001b[38;5;241m.\u001b[39mpath\u001b[38;5;241m.\u001b[39mjoin(\n\u001b[1;32m----> 4\u001b[0m     os\u001b[38;5;241m.\u001b[39mpath\u001b[38;5;241m.\u001b[39mdirname(\u001b[38;5;18;43m__file__\u001b[39;49m), \u001b[38;5;124m\"\u001b[39m\u001b[38;5;124m./global_config.json\u001b[39m\u001b[38;5;124m\"\u001b[39m)\n\u001b[0;32m      6\u001b[0m \u001b[38;5;28;01mif\u001b[39;00m \u001b[38;5;18m__name__\u001b[39m \u001b[38;5;241m==\u001b[39m \u001b[38;5;124m'\u001b[39m\u001b[38;5;124m__main__\u001b[39m\u001b[38;5;124m'\u001b[39m:\n\u001b[0;32m      7\u001b[0m     manager \u001b[38;5;241m=\u001b[39m ml\u001b[38;5;241m.\u001b[39mManager(\u001b[38;5;124mr\u001b[39m\u001b[38;5;124m\"\u001b[39m\u001b[38;5;124m./test\u001b[39m\u001b[38;5;124m\"\u001b[39m,global_config_path)\n",
      "\u001b[1;31mNameError\u001b[0m: name '__file__' is not defined"
     ]
    }
   ],
   "source": [
    "import managerlib as ml\n",
    "import os\n",
    "global_config_path = os.path.join(\n",
    "    os.path.dirname(__file__), \"./global_config.json\")\n",
    "\n",
    "if __name__ == '__main__':\n",
    "    manager = ml.Manager(r\"./test\",global_config_path)\n",
    "    manager.write_info(r\"E:\\code\\pyfastindex\\test\\files\\a copy 3.txt\")\n",
    "    print(manager.get_info(r\"E:\\code\\pyfastindex\\test\\files\\a.txt\"))"
   ]
  },
  {
   "cell_type": "code",
   "execution_count": null,
   "metadata": {},
   "outputs": [],
   "source": [
    "from managerlib.algo import tree\n",
    "a = tree.TreeNode(\"a\", next=[\n",
    "    tree.TreeNode(\"a-1\", next=[\n",
    "        tree.TreeNode(\"a-1-1\", next=[]),\n",
    "        tree.TreeNode(\"a-1-2\", next=[\n",
    "            tree.TreeNode(\"a-1-2-1\", next=[]),\n",
    "            tree.TreeNode(\"a-1-2-2\", next=[])\n",
    "        ])\n",
    "    ]),\n",
    "    tree.TreeNode(\"a-2\", next=[\n",
    "        tree.TreeNode(\"a-2-1\", next=[])\n",
    "    ])\n",
    "])\n",
    "for i in a:print(i)\n",
    "print(\"-\")\n",
    "print(a.search(\"a-1-2-1\"))"
   ]
  },
  {
   "cell_type": "code",
   "execution_count": null,
   "metadata": {},
   "outputs": [],
   "source": [
    "import json\n",
    "from managerlib import argv\n",
    "argvtest=argv.ArgvParser(json.load(open(\"global\\prog_argv.json\",\"r\",encoding=\"utf-8\")))\n",
    "argvtest.parse(['-l',\"--o\",\"22\"])"
   ]
  }
 ],
 "metadata": {
  "kernelspec": {
   "display_name": "Python 3",
   "language": "python",
   "name": "python3"
  },
  "language_info": {
   "codemirror_mode": {
    "name": "ipython",
    "version": 3
   },
   "file_extension": ".py",
   "mimetype": "text/x-python",
   "name": "python",
   "nbconvert_exporter": "python",
   "pygments_lexer": "ipython3",
   "version": "3.12.5"
  }
 },
 "nbformat": 4,
 "nbformat_minor": 2
}
