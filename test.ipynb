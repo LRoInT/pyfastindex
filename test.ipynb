{
 "cells": [
  {
   "cell_type": "code",
   "execution_count": null,
   "metadata": {},
   "outputs": [],
   "source": [
    "import managerlib as ml\n",
    "import os\n",
    "global_config_path = os.path.join(\n",
    "    os.path.dirname(__file__), \"./global\")\n",
    "\n",
    "if __name__ == '__main__':\n",
    "    manager = ml.Manager(r\"./test\",global_config_path)\n",
    "    manager.write_info(r\"E:\\code\\pyfastindex\\test\\files\\a copy 3.txt\")\n",
    "    print(manager.get_info(r\"E:\\code\\pyfastindex\\test\\files\\a.txt\"))"
   ]
  },
  {
   "cell_type": "code",
   "execution_count": null,
   "metadata": {},
   "outputs": [],
   "source": [
    "from managerlib.algo import tree\n",
    "a = tree.TreeNode(\"a\", next=[\n",
    "    tree.TreeNode(\"a-1\", next=[\n",
    "        tree.TreeNode(\"a-1-1\", next=[]),\n",
    "        tree.TreeNode(\"a-1-2\", next=[\n",
    "            tree.TreeNode(\"a-1-2-1\", next=[]),\n",
    "            tree.TreeNode(\"a-1-2-2\", next=[])\n",
    "        ])\n",
    "    ]),\n",
    "    tree.TreeNode(\"a-2\", next=[\n",
    "        tree.TreeNode(\"a-2-1\", next=[])\n",
    "    ])\n",
    "])\n",
    "for i in a:print(i)\n",
    "print(\"-\")\n",
    "print(a.search(\"a-1-2-1\"))"
   ]
  },
  {
   "cell_type": "code",
   "execution_count": null,
   "metadata": {},
   "outputs": [],
   "source": [
    "import json\n",
    "from managerlib import argv\n",
    "argvtest=argv.ArgvParser(json.load(open(\"global\\prog_argv.json\",\"r\",encoding=\"utf-8\")))\n",
    "argvtest.parse(['-l',\"--o\",\"22\"])"
   ]
  }
 ],
 "metadata": {
  "kernelspec": {
   "display_name": "Python 3",
   "language": "python",
   "name": "python3"
  },
  "language_info": {
   "codemirror_mode": {
    "name": "ipython",
    "version": 3
   },
   "file_extension": ".py",
   "mimetype": "text/x-python",
   "name": "python",
   "nbconvert_exporter": "python",
   "pygments_lexer": "ipython3",
   "version": "3.12.5"
  }
 },
 "nbformat": 4,
 "nbformat_minor": 2
}
